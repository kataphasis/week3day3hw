{
 "cells": [
  {
   "cell_type": "code",
   "execution_count": 15,
   "metadata": {},
   "outputs": [
    {
     "name": "stdout",
     "output_type": "stream",
     "text": [
      "{'fire': [], 'other': [Pokemon: Pikachu, Pokemon: Pikachu, Pokemon: Pikachu, Pokemon: Pikachu, Pokemon: Pikachu, Pokemon: Pikachu, Pokemon: Pikachu, Pokemon: Pikachu, Pokemon: Pikachu], 'electric': [Pokemon: Pikachu], 'psychic': [], 'grass': [], 'water': [], 'flying': [], 'dragon': [], 'ice': [], 'dark': []}\n"
     ]
    }
   ],
   "source": [
    "import requests\n",
    "from pprint import pprint\n",
    "class Pokemon:\n",
    "    def __init__(self, name, type1, ability1, ability2, height, weight,):\n",
    "        self.poke_name = name\n",
    "        self.type1 = type1\n",
    "        \n",
    "        self.ability1 = ability1\n",
    "        self.ability2 = ability2\n",
    "        self.height = height\n",
    "        self.weight = weight\n",
    "        \n",
    "    def __repr__(self):\n",
    "        return f\"Pokemon: {self.poke_name.title()}\"\n",
    "class Pokedex:\n",
    "    def __init__(self, name):\n",
    "        self.name = name\n",
    "        self.wholepokedex = {\n",
    "            \"fire\" : [],\n",
    "            \"other\" : [],\n",
    "            \"electric\" : [],\n",
    "            \"psychic\" : [],\n",
    "            \"grass\" : [],\n",
    "            \"water\" : [],\n",
    "            \"flying\" : [],\n",
    "            \"dragon\" : [],\n",
    "            \"ice\" : [],\n",
    "            \"dark\" : []\n",
    "        }\n",
    "\n",
    "    def add_pokemon(self, your_pokemon):\n",
    "        try:\n",
    "            self.poke = f\"http://pokeapi.co/api/v2/pokemon/{your_pokemon}/\"\n",
    "            self.poke_results = requests.get(self.poke).json()\n",
    "        except:\n",
    "            print(\"Error\")\n",
    "        d = Pokemon(name=self.poke_results[\"name\"],\n",
    "            type1=self.poke_results[\"types\"][0][\"type\"][\"name\"],\n",
    "            \n",
    "            ability1=self.poke_results[\"abilities\"][0][\"ability\"][\"name\"],\n",
    "            ability2=self.poke_results[\"abilities\"][1][\"ability\"][\"name\"],\n",
    "            height=self.poke_results[\"height\"],\n",
    "            weight=self.poke_results[\"weight\"]\n",
    "            )\n",
    "        for k in self.wholepokedex.keys():\n",
    "            if k == d.type1:\n",
    "                self.wholepokedex[k].append(d)\n",
    "            # if k == d.type2:\n",
    "            #     self.wholepokedex[k].append(d)\n",
    "            else:\n",
    "                self.wholepokedex[\"other\"].append(d)\n",
    "    @classmethod\n",
    "    def run(cls):\n",
    "        pokedex = cls(\"name\")\n",
    "        \n",
    "        end = False\n",
    "        while not end:\n",
    "            your_pokemon = input(\"Choose a pokemon to add: \")\n",
    "            pokedex.add_pokemon(your_pokemon)\n",
    "            end = True\n",
    "        view_pokemon = input(\"Would you like to view your Pokedex? Yes or no: \").lower()\n",
    "        \n",
    "        if view_pokemon == \"yes\":\n",
    "            return pokedex\n",
    "\n",
    "pokedex1 = Pokedex.run()\n",
    "print(pokedex1.wholepokedex)"
   ]
  }
 ],
 "metadata": {
  "kernelspec": {
   "display_name": "Python 3.9.12 ('base')",
   "language": "python",
   "name": "python3"
  },
  "language_info": {
   "codemirror_mode": {
    "name": "ipython",
    "version": 3
   },
   "file_extension": ".py",
   "mimetype": "text/x-python",
   "name": "python",
   "nbconvert_exporter": "python",
   "pygments_lexer": "ipython3",
   "version": "3.9.12"
  },
  "orig_nbformat": 4,
  "vscode": {
   "interpreter": {
    "hash": "80ed5adf56c5937c35ea612552c390791522fdca61b8b087ea180b084cf950c9"
   }
  }
 },
 "nbformat": 4,
 "nbformat_minor": 2
}
